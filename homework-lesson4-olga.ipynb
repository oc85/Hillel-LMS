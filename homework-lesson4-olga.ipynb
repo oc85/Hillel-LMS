{
 "cells": [
  {
   "cell_type": "markdown",
   "id": "d6202852",
   "metadata": {
    "papermill": {
     "duration": 0.015075,
     "end_time": "2023-09-02T00:29:56.077523",
     "exception": false,
     "start_time": "2023-09-02T00:29:56.062448",
     "status": "completed"
    },
    "tags": []
   },
   "source": [
    "# Libraries"
   ]
  },
  {
   "cell_type": "code",
   "execution_count": 1,
   "id": "133a5076",
   "metadata": {
    "execution": {
     "iopub.execute_input": "2023-09-02T00:29:56.110272Z",
     "iopub.status.busy": "2023-09-02T00:29:56.109135Z",
     "iopub.status.idle": "2023-09-02T00:29:59.214076Z",
     "shell.execute_reply": "2023-09-02T00:29:59.212708Z"
    },
    "papermill": {
     "duration": 3.12563,
     "end_time": "2023-09-02T00:29:59.218440",
     "exception": false,
     "start_time": "2023-09-02T00:29:56.092810",
     "status": "completed"
    },
    "tags": []
   },
   "outputs": [],
   "source": [
    "import pandas as pd\n",
    "import numpy as np\n",
    "import seaborn as sns\n",
    "from matplotlib import pyplot as plt\n",
    "\n",
    "import plotly.express as px"
   ]
  },
  {
   "cell_type": "markdown",
   "id": "47b1d047",
   "metadata": {
    "papermill": {
     "duration": 0.013074,
     "end_time": "2023-09-02T00:29:59.246360",
     "exception": false,
     "start_time": "2023-09-02T00:29:59.233286",
     "status": "completed"
    },
    "tags": []
   },
   "source": [
    "# 2. Datasets analysis"
   ]
  },
  {
   "cell_type": "markdown",
   "id": "740bfa43",
   "metadata": {
    "papermill": {
     "duration": 0.01298,
     "end_time": "2023-09-02T00:29:59.272803",
     "exception": false,
     "start_time": "2023-09-02T00:29:59.259823",
     "status": "completed"
    },
    "tags": []
   },
   "source": [
    "# 2.1 Data reading and pre-processing\n",
    "########################################################################################################"
   ]
  },
  {
   "cell_type": "markdown",
   "id": "4bff4087",
   "metadata": {
    "papermill": {
     "duration": 0.013059,
     "end_time": "2023-09-02T00:29:59.299538",
     "exception": false,
     "start_time": "2023-09-02T00:29:59.286479",
     "status": "completed"
    },
    "tags": []
   },
   "source": [
    "1. In table \"Players\" birth_state and birth_city have Nan values. Information about birth can be found in table \"player_data\"\n",
    "2. In table \"player_data\" birth day and year can be splitted in order to get information about birth year only\n",
    "3. Unnamed categories can be named\n",
    "4. We can see that in table \"player_data\" more unique names of the players than in other two tables\n",
    "5. Additional features that could be calculated: playing range,\n",
    "6. column \"Age\" would have small impact on analysis as it correlates with birth of the year\n",
    "7. Columns '3P%','blank2','blanl','3PAr','GS','TOV%','USG%','3P','3PA','TOV' are not informative because they do not provide information about more then 20% of the players (approximately). This can have negative impact on the overal analysis and therefore need to be removed\n",
    "8. Some tables containe duplacate names of the players. This need to be taken in attantion during analysis\n",
    "9. Some names has * in their names. This need to be cleaned"
   ]
  },
  {
   "cell_type": "code",
   "execution_count": 2,
   "id": "22680e87",
   "metadata": {
    "execution": {
     "iopub.execute_input": "2023-09-02T00:29:59.329405Z",
     "iopub.status.busy": "2023-09-02T00:29:59.327900Z",
     "iopub.status.idle": "2023-09-02T00:29:59.673842Z",
     "shell.execute_reply": "2023-09-02T00:29:59.672468Z"
    },
    "papermill": {
     "duration": 0.364104,
     "end_time": "2023-09-02T00:29:59.677060",
     "exception": false,
     "start_time": "2023-09-02T00:29:59.312956",
     "status": "completed"
    },
    "tags": []
   },
   "outputs": [],
   "source": [
    "players = pd.read_csv('/kaggle/input/dataset-homework-lesson4/Players.csv')\n",
    "seasons_stats = pd.read_csv('/kaggle/input/dataset-homework-lesson4/Seasons_Stats.csv')\n",
    "player_data = pd.read_csv('/kaggle/input/dataset-homework-lesson4/player_data.csv')"
   ]
  },
  {
   "cell_type": "code",
   "execution_count": 3,
   "id": "00d8be82",
   "metadata": {
    "execution": {
     "iopub.execute_input": "2023-09-02T00:29:59.708427Z",
     "iopub.status.busy": "2023-09-02T00:29:59.707979Z",
     "iopub.status.idle": "2023-09-02T00:29:59.738892Z",
     "shell.execute_reply": "2023-09-02T00:29:59.737179Z"
    },
    "papermill": {
     "duration": 0.049415,
     "end_time": "2023-09-02T00:29:59.741578",
     "exception": false,
     "start_time": "2023-09-02T00:29:59.692163",
     "status": "completed"
    },
    "tags": []
   },
   "outputs": [
    {
     "name": "stdout",
     "output_type": "stream",
     "text": [
      "Length of the dataset:  3922 \n",
      "\n"
     ]
    },
    {
     "data": {
      "text/html": [
       "<div>\n",
       "<style scoped>\n",
       "    .dataframe tbody tr th:only-of-type {\n",
       "        vertical-align: middle;\n",
       "    }\n",
       "\n",
       "    .dataframe tbody tr th {\n",
       "        vertical-align: top;\n",
       "    }\n",
       "\n",
       "    .dataframe thead th {\n",
       "        text-align: right;\n",
       "    }\n",
       "</style>\n",
       "<table border=\"1\" class=\"dataframe\">\n",
       "  <thead>\n",
       "    <tr style=\"text-align: right;\">\n",
       "      <th></th>\n",
       "      <th>Unnamed: 0</th>\n",
       "      <th>Player</th>\n",
       "      <th>height</th>\n",
       "      <th>weight</th>\n",
       "      <th>collage</th>\n",
       "      <th>born</th>\n",
       "      <th>birth_city</th>\n",
       "      <th>birth_state</th>\n",
       "    </tr>\n",
       "  </thead>\n",
       "  <tbody>\n",
       "    <tr>\n",
       "      <th>0</th>\n",
       "      <td>0</td>\n",
       "      <td>Curly Armstrong</td>\n",
       "      <td>180.0</td>\n",
       "      <td>77.0</td>\n",
       "      <td>Indiana University</td>\n",
       "      <td>1918.0</td>\n",
       "      <td>NaN</td>\n",
       "      <td>NaN</td>\n",
       "    </tr>\n",
       "    <tr>\n",
       "      <th>1</th>\n",
       "      <td>1</td>\n",
       "      <td>Cliff Barker</td>\n",
       "      <td>188.0</td>\n",
       "      <td>83.0</td>\n",
       "      <td>University of Kentucky</td>\n",
       "      <td>1921.0</td>\n",
       "      <td>Yorktown</td>\n",
       "      <td>Indiana</td>\n",
       "    </tr>\n",
       "    <tr>\n",
       "      <th>2</th>\n",
       "      <td>2</td>\n",
       "      <td>Leo Barnhorst</td>\n",
       "      <td>193.0</td>\n",
       "      <td>86.0</td>\n",
       "      <td>University of Notre Dame</td>\n",
       "      <td>1924.0</td>\n",
       "      <td>NaN</td>\n",
       "      <td>NaN</td>\n",
       "    </tr>\n",
       "    <tr>\n",
       "      <th>3</th>\n",
       "      <td>3</td>\n",
       "      <td>Ed Bartels</td>\n",
       "      <td>196.0</td>\n",
       "      <td>88.0</td>\n",
       "      <td>North Carolina State University</td>\n",
       "      <td>1925.0</td>\n",
       "      <td>NaN</td>\n",
       "      <td>NaN</td>\n",
       "    </tr>\n",
       "  </tbody>\n",
       "</table>\n",
       "</div>"
      ],
      "text/plain": [
       "   Unnamed: 0           Player  height  weight  \\\n",
       "0           0  Curly Armstrong   180.0    77.0   \n",
       "1           1     Cliff Barker   188.0    83.0   \n",
       "2           2    Leo Barnhorst   193.0    86.0   \n",
       "3           3       Ed Bartels   196.0    88.0   \n",
       "\n",
       "                           collage    born birth_city birth_state  \n",
       "0               Indiana University  1918.0        NaN         NaN  \n",
       "1           University of Kentucky  1921.0   Yorktown     Indiana  \n",
       "2         University of Notre Dame  1924.0        NaN         NaN  \n",
       "3  North Carolina State University  1925.0        NaN         NaN  "
      ]
     },
     "execution_count": 3,
     "metadata": {},
     "output_type": "execute_result"
    }
   ],
   "source": [
    "print('Length of the dataset: ',len(players),'\\n')\n",
    "players[:4]"
   ]
  },
  {
   "cell_type": "code",
   "execution_count": 4,
   "id": "69ef5c7b",
   "metadata": {
    "execution": {
     "iopub.execute_input": "2023-09-02T00:29:59.772626Z",
     "iopub.status.busy": "2023-09-02T00:29:59.771871Z",
     "iopub.status.idle": "2023-09-02T00:29:59.807334Z",
     "shell.execute_reply": "2023-09-02T00:29:59.805795Z"
    },
    "papermill": {
     "duration": 0.054366,
     "end_time": "2023-09-02T00:29:59.810452",
     "exception": false,
     "start_time": "2023-09-02T00:29:59.756086",
     "status": "completed"
    },
    "tags": []
   },
   "outputs": [
    {
     "name": "stdout",
     "output_type": "stream",
     "text": [
      "Length of the dataset:  24691 \n",
      "\n"
     ]
    },
    {
     "data": {
      "text/html": [
       "<div>\n",
       "<style scoped>\n",
       "    .dataframe tbody tr th:only-of-type {\n",
       "        vertical-align: middle;\n",
       "    }\n",
       "\n",
       "    .dataframe tbody tr th {\n",
       "        vertical-align: top;\n",
       "    }\n",
       "\n",
       "    .dataframe thead th {\n",
       "        text-align: right;\n",
       "    }\n",
       "</style>\n",
       "<table border=\"1\" class=\"dataframe\">\n",
       "  <thead>\n",
       "    <tr style=\"text-align: right;\">\n",
       "      <th></th>\n",
       "      <th>Unnamed: 0</th>\n",
       "      <th>Year</th>\n",
       "      <th>Player</th>\n",
       "      <th>Pos</th>\n",
       "      <th>Age</th>\n",
       "      <th>Tm</th>\n",
       "      <th>G</th>\n",
       "      <th>GS</th>\n",
       "      <th>MP</th>\n",
       "      <th>PER</th>\n",
       "      <th>...</th>\n",
       "      <th>FT%</th>\n",
       "      <th>ORB</th>\n",
       "      <th>DRB</th>\n",
       "      <th>TRB</th>\n",
       "      <th>AST</th>\n",
       "      <th>STL</th>\n",
       "      <th>BLK</th>\n",
       "      <th>TOV</th>\n",
       "      <th>PF</th>\n",
       "      <th>PTS</th>\n",
       "    </tr>\n",
       "  </thead>\n",
       "  <tbody>\n",
       "    <tr>\n",
       "      <th>0</th>\n",
       "      <td>0</td>\n",
       "      <td>1950.0</td>\n",
       "      <td>Curly Armstrong</td>\n",
       "      <td>G-F</td>\n",
       "      <td>31.0</td>\n",
       "      <td>FTW</td>\n",
       "      <td>63.0</td>\n",
       "      <td>NaN</td>\n",
       "      <td>NaN</td>\n",
       "      <td>NaN</td>\n",
       "      <td>...</td>\n",
       "      <td>0.705</td>\n",
       "      <td>NaN</td>\n",
       "      <td>NaN</td>\n",
       "      <td>NaN</td>\n",
       "      <td>176.0</td>\n",
       "      <td>NaN</td>\n",
       "      <td>NaN</td>\n",
       "      <td>NaN</td>\n",
       "      <td>217.0</td>\n",
       "      <td>458.0</td>\n",
       "    </tr>\n",
       "    <tr>\n",
       "      <th>1</th>\n",
       "      <td>1</td>\n",
       "      <td>1950.0</td>\n",
       "      <td>Cliff Barker</td>\n",
       "      <td>SG</td>\n",
       "      <td>29.0</td>\n",
       "      <td>INO</td>\n",
       "      <td>49.0</td>\n",
       "      <td>NaN</td>\n",
       "      <td>NaN</td>\n",
       "      <td>NaN</td>\n",
       "      <td>...</td>\n",
       "      <td>0.708</td>\n",
       "      <td>NaN</td>\n",
       "      <td>NaN</td>\n",
       "      <td>NaN</td>\n",
       "      <td>109.0</td>\n",
       "      <td>NaN</td>\n",
       "      <td>NaN</td>\n",
       "      <td>NaN</td>\n",
       "      <td>99.0</td>\n",
       "      <td>279.0</td>\n",
       "    </tr>\n",
       "    <tr>\n",
       "      <th>2</th>\n",
       "      <td>2</td>\n",
       "      <td>1950.0</td>\n",
       "      <td>Leo Barnhorst</td>\n",
       "      <td>SF</td>\n",
       "      <td>25.0</td>\n",
       "      <td>CHS</td>\n",
       "      <td>67.0</td>\n",
       "      <td>NaN</td>\n",
       "      <td>NaN</td>\n",
       "      <td>NaN</td>\n",
       "      <td>...</td>\n",
       "      <td>0.698</td>\n",
       "      <td>NaN</td>\n",
       "      <td>NaN</td>\n",
       "      <td>NaN</td>\n",
       "      <td>140.0</td>\n",
       "      <td>NaN</td>\n",
       "      <td>NaN</td>\n",
       "      <td>NaN</td>\n",
       "      <td>192.0</td>\n",
       "      <td>438.0</td>\n",
       "    </tr>\n",
       "    <tr>\n",
       "      <th>3</th>\n",
       "      <td>3</td>\n",
       "      <td>1950.0</td>\n",
       "      <td>Ed Bartels</td>\n",
       "      <td>F</td>\n",
       "      <td>24.0</td>\n",
       "      <td>TOT</td>\n",
       "      <td>15.0</td>\n",
       "      <td>NaN</td>\n",
       "      <td>NaN</td>\n",
       "      <td>NaN</td>\n",
       "      <td>...</td>\n",
       "      <td>0.559</td>\n",
       "      <td>NaN</td>\n",
       "      <td>NaN</td>\n",
       "      <td>NaN</td>\n",
       "      <td>20.0</td>\n",
       "      <td>NaN</td>\n",
       "      <td>NaN</td>\n",
       "      <td>NaN</td>\n",
       "      <td>29.0</td>\n",
       "      <td>63.0</td>\n",
       "    </tr>\n",
       "  </tbody>\n",
       "</table>\n",
       "<p>4 rows × 53 columns</p>\n",
       "</div>"
      ],
      "text/plain": [
       "   Unnamed: 0    Year           Player  Pos   Age   Tm     G  GS  MP  PER  \\\n",
       "0           0  1950.0  Curly Armstrong  G-F  31.0  FTW  63.0 NaN NaN  NaN   \n",
       "1           1  1950.0     Cliff Barker   SG  29.0  INO  49.0 NaN NaN  NaN   \n",
       "2           2  1950.0    Leo Barnhorst   SF  25.0  CHS  67.0 NaN NaN  NaN   \n",
       "3           3  1950.0       Ed Bartels    F  24.0  TOT  15.0 NaN NaN  NaN   \n",
       "\n",
       "   ...    FT%  ORB  DRB  TRB    AST  STL  BLK  TOV     PF    PTS  \n",
       "0  ...  0.705  NaN  NaN  NaN  176.0  NaN  NaN  NaN  217.0  458.0  \n",
       "1  ...  0.708  NaN  NaN  NaN  109.0  NaN  NaN  NaN   99.0  279.0  \n",
       "2  ...  0.698  NaN  NaN  NaN  140.0  NaN  NaN  NaN  192.0  438.0  \n",
       "3  ...  0.559  NaN  NaN  NaN   20.0  NaN  NaN  NaN   29.0   63.0  \n",
       "\n",
       "[4 rows x 53 columns]"
      ]
     },
     "execution_count": 4,
     "metadata": {},
     "output_type": "execute_result"
    }
   ],
   "source": [
    "print('Length of the dataset: ',len(seasons_stats),'\\n')\n",
    "seasons_stats[:4]"
   ]
  },
  {
   "cell_type": "code",
   "execution_count": 5,
   "id": "b8788aca",
   "metadata": {
    "execution": {
     "iopub.execute_input": "2023-09-02T00:29:59.842667Z",
     "iopub.status.busy": "2023-09-02T00:29:59.842170Z",
     "iopub.status.idle": "2023-09-02T00:29:59.862157Z",
     "shell.execute_reply": "2023-09-02T00:29:59.860580Z"
    },
    "papermill": {
     "duration": 0.039278,
     "end_time": "2023-09-02T00:29:59.864827",
     "exception": false,
     "start_time": "2023-09-02T00:29:59.825549",
     "status": "completed"
    },
    "tags": []
   },
   "outputs": [
    {
     "name": "stdout",
     "output_type": "stream",
     "text": [
      "Length of the dataset:  4550 \n",
      "\n"
     ]
    },
    {
     "data": {
      "text/html": [
       "<div>\n",
       "<style scoped>\n",
       "    .dataframe tbody tr th:only-of-type {\n",
       "        vertical-align: middle;\n",
       "    }\n",
       "\n",
       "    .dataframe tbody tr th {\n",
       "        vertical-align: top;\n",
       "    }\n",
       "\n",
       "    .dataframe thead th {\n",
       "        text-align: right;\n",
       "    }\n",
       "</style>\n",
       "<table border=\"1\" class=\"dataframe\">\n",
       "  <thead>\n",
       "    <tr style=\"text-align: right;\">\n",
       "      <th></th>\n",
       "      <th>name</th>\n",
       "      <th>year_start</th>\n",
       "      <th>year_end</th>\n",
       "      <th>position</th>\n",
       "      <th>height</th>\n",
       "      <th>weight</th>\n",
       "      <th>birth_date</th>\n",
       "      <th>college</th>\n",
       "    </tr>\n",
       "  </thead>\n",
       "  <tbody>\n",
       "    <tr>\n",
       "      <th>0</th>\n",
       "      <td>Alaa Abdelnaby</td>\n",
       "      <td>1991</td>\n",
       "      <td>1995</td>\n",
       "      <td>F-C</td>\n",
       "      <td>6-10</td>\n",
       "      <td>240.0</td>\n",
       "      <td>June 24, 1968</td>\n",
       "      <td>Duke University</td>\n",
       "    </tr>\n",
       "    <tr>\n",
       "      <th>1</th>\n",
       "      <td>Zaid Abdul-Aziz</td>\n",
       "      <td>1969</td>\n",
       "      <td>1978</td>\n",
       "      <td>C-F</td>\n",
       "      <td>6-9</td>\n",
       "      <td>235.0</td>\n",
       "      <td>April 7, 1946</td>\n",
       "      <td>Iowa State University</td>\n",
       "    </tr>\n",
       "    <tr>\n",
       "      <th>2</th>\n",
       "      <td>Kareem Abdul-Jabbar</td>\n",
       "      <td>1970</td>\n",
       "      <td>1989</td>\n",
       "      <td>C</td>\n",
       "      <td>7-2</td>\n",
       "      <td>225.0</td>\n",
       "      <td>April 16, 1947</td>\n",
       "      <td>University of California, Los Angeles</td>\n",
       "    </tr>\n",
       "    <tr>\n",
       "      <th>3</th>\n",
       "      <td>Mahmoud Abdul-Rauf</td>\n",
       "      <td>1991</td>\n",
       "      <td>2001</td>\n",
       "      <td>G</td>\n",
       "      <td>6-1</td>\n",
       "      <td>162.0</td>\n",
       "      <td>March 9, 1969</td>\n",
       "      <td>Louisiana State University</td>\n",
       "    </tr>\n",
       "  </tbody>\n",
       "</table>\n",
       "</div>"
      ],
      "text/plain": [
       "                  name  year_start  year_end position height  weight  \\\n",
       "0       Alaa Abdelnaby        1991      1995      F-C   6-10   240.0   \n",
       "1      Zaid Abdul-Aziz        1969      1978      C-F    6-9   235.0   \n",
       "2  Kareem Abdul-Jabbar        1970      1989        C    7-2   225.0   \n",
       "3   Mahmoud Abdul-Rauf        1991      2001        G    6-1   162.0   \n",
       "\n",
       "       birth_date                                college  \n",
       "0   June 24, 1968                        Duke University  \n",
       "1   April 7, 1946                  Iowa State University  \n",
       "2  April 16, 1947  University of California, Los Angeles  \n",
       "3   March 9, 1969             Louisiana State University  "
      ]
     },
     "execution_count": 5,
     "metadata": {},
     "output_type": "execute_result"
    }
   ],
   "source": [
    "print('Length of the dataset: ',len(player_data),'\\n')\n",
    "player_data[:4]"
   ]
  },
  {
   "cell_type": "markdown",
   "id": "ad439baa",
   "metadata": {
    "papermill": {
     "duration": 0.014521,
     "end_time": "2023-09-02T00:29:59.894354",
     "exception": false,
     "start_time": "2023-09-02T00:29:59.879833",
     "status": "completed"
    },
    "tags": []
   },
   "source": [
    "rename column \"name\" on \"Player\""
   ]
  },
  {
   "cell_type": "code",
   "execution_count": 6,
   "id": "0a01ade2",
   "metadata": {
    "execution": {
     "iopub.execute_input": "2023-09-02T00:29:59.926070Z",
     "iopub.status.busy": "2023-09-02T00:29:59.925652Z",
     "iopub.status.idle": "2023-09-02T00:29:59.935838Z",
     "shell.execute_reply": "2023-09-02T00:29:59.934406Z"
    },
    "papermill": {
     "duration": 0.029196,
     "end_time": "2023-09-02T00:29:59.938677",
     "exception": false,
     "start_time": "2023-09-02T00:29:59.909481",
     "status": "completed"
    },
    "tags": []
   },
   "outputs": [
    {
     "data": {
      "text/plain": [
       "name           object\n",
       "year_start      int64\n",
       "year_end        int64\n",
       "position       object\n",
       "height         object\n",
       "weight        float64\n",
       "birth_date     object\n",
       "college        object\n",
       "dtype: object"
      ]
     },
     "execution_count": 6,
     "metadata": {},
     "output_type": "execute_result"
    }
   ],
   "source": [
    "#seasons_stats.dtypes\n",
    "#players.dtypes\n",
    "player_data.dtypes"
   ]
  },
  {
   "cell_type": "code",
   "execution_count": 7,
   "id": "399073ae",
   "metadata": {
    "execution": {
     "iopub.execute_input": "2023-09-02T00:29:59.971070Z",
     "iopub.status.busy": "2023-09-02T00:29:59.970609Z",
     "iopub.status.idle": "2023-09-02T00:29:59.999834Z",
     "shell.execute_reply": "2023-09-02T00:29:59.998922Z"
    },
    "papermill": {
     "duration": 0.048751,
     "end_time": "2023-09-02T00:30:00.002751",
     "exception": false,
     "start_time": "2023-09-02T00:29:59.954000",
     "status": "completed"
    },
    "tags": []
   },
   "outputs": [
    {
     "data": {
      "text/plain": [
       "array([610.,  69.,  72.,  61.,  66.,  67.,  63.,  65.,  60., 611.,  64.,\n",
       "       510.,  70.,  62., 511.,  71.,  68.,  75.,  53.,  77.,  55.,  76.,\n",
       "        73.,  59.,  58.,  57.,  74.,  56.,  nan])"
      ]
     },
     "execution_count": 7,
     "metadata": {},
     "output_type": "execute_result"
    }
   ],
   "source": [
    "player_data = player_data.fillna(0)\n",
    "\n",
    "player_data['height'] = player_data['height'].str.replace('-','')\n",
    "player_data['height']=pd.to_numeric(player_data['height'])\n",
    "player_data['height'].unique()\n"
   ]
  },
  {
   "cell_type": "markdown",
   "id": "4bf1f939",
   "metadata": {
    "papermill": {
     "duration": 0.016248,
     "end_time": "2023-09-02T00:30:00.036516",
     "exception": false,
     "start_time": "2023-09-02T00:30:00.020268",
     "status": "completed"
    },
    "tags": []
   },
   "source": [
    "- in \"height\" birth_date can be converted into integer value\n"
   ]
  },
  {
   "cell_type": "code",
   "execution_count": 8,
   "id": "aa7070d3",
   "metadata": {
    "execution": {
     "iopub.execute_input": "2023-09-02T00:30:00.071169Z",
     "iopub.status.busy": "2023-09-02T00:30:00.069626Z",
     "iopub.status.idle": "2023-09-02T00:30:00.080287Z",
     "shell.execute_reply": "2023-09-02T00:30:00.078491Z"
    },
    "papermill": {
     "duration": 0.0307,
     "end_time": "2023-09-02T00:30:00.083280",
     "exception": false,
     "start_time": "2023-09-02T00:30:00.052580",
     "status": "completed"
    },
    "tags": []
   },
   "outputs": [],
   "source": [
    "player_data = player_data.rename(columns = {'name':'Player'})"
   ]
  },
  {
   "cell_type": "code",
   "execution_count": 9,
   "id": "6e98b0e9",
   "metadata": {
    "execution": {
     "iopub.execute_input": "2023-09-02T00:30:00.119628Z",
     "iopub.status.busy": "2023-09-02T00:30:00.118920Z",
     "iopub.status.idle": "2023-09-02T00:30:00.135686Z",
     "shell.execute_reply": "2023-09-02T00:30:00.134304Z"
    },
    "papermill": {
     "duration": 0.038511,
     "end_time": "2023-09-02T00:30:00.138973",
     "exception": false,
     "start_time": "2023-09-02T00:30:00.100462",
     "status": "completed"
    },
    "tags": []
   },
   "outputs": [
    {
     "name": "stdout",
     "output_type": "stream",
     "text": [
      "Unique names in table \"Player\":  3922\n",
      "Unique names in table \"player_data\":  4500\n",
      "Unique names in table \"seasons_stats\":  3922\n"
     ]
    }
   ],
   "source": [
    "print('Unique names in table \"Player\": ', len(players['Player'].unique()))\n",
    "print('Unique names in table \"player_data\": ', len(player_data['Player'].unique()))\n",
    "print('Unique names in table \"seasons_stats\": ', len(seasons_stats['Player'].unique()))"
   ]
  },
  {
   "cell_type": "markdown",
   "id": "9108473f",
   "metadata": {
    "papermill": {
     "duration": 0.015894,
     "end_time": "2023-09-02T00:30:00.171871",
     "exception": false,
     "start_time": "2023-09-02T00:30:00.155977",
     "status": "completed"
    },
    "tags": []
   },
   "source": [
    "remove * in names"
   ]
  },
  {
   "cell_type": "code",
   "execution_count": 10,
   "id": "e7b57cac",
   "metadata": {
    "execution": {
     "iopub.execute_input": "2023-09-02T00:30:00.207615Z",
     "iopub.status.busy": "2023-09-02T00:30:00.206869Z",
     "iopub.status.idle": "2023-09-02T00:30:00.238453Z",
     "shell.execute_reply": "2023-09-02T00:30:00.237059Z"
    },
    "papermill": {
     "duration": 0.053721,
     "end_time": "2023-09-02T00:30:00.242235",
     "exception": false,
     "start_time": "2023-09-02T00:30:00.188514",
     "status": "completed"
    },
    "tags": []
   },
   "outputs": [],
   "source": [
    "players['Player']=players['Player'].str.replace('*','',regex=False)\n",
    "seasons_stats['Player']=seasons_stats['Player'].str.replace('*','',regex=False)\n",
    "player_data['Player']=player_data['Player'].str.replace('*','',regex=False)"
   ]
  },
  {
   "cell_type": "code",
   "execution_count": 11,
   "id": "27185330",
   "metadata": {
    "execution": {
     "iopub.execute_input": "2023-09-02T00:30:00.279123Z",
     "iopub.status.busy": "2023-09-02T00:30:00.278664Z",
     "iopub.status.idle": "2023-09-02T00:30:00.307965Z",
     "shell.execute_reply": "2023-09-02T00:30:00.306398Z"
    },
    "papermill": {
     "duration": 0.052671,
     "end_time": "2023-09-02T00:30:00.312120",
     "exception": false,
     "start_time": "2023-09-02T00:30:00.259449",
     "status": "completed"
    },
    "tags": []
   },
   "outputs": [
    {
     "name": "stdout",
     "output_type": "stream",
     "text": [
      "\"players\" NaNs: \n",
      " Unnamed: 0       0\n",
      "Player           1\n",
      "height           1\n",
      "weight           1\n",
      "collage        349\n",
      "born             1\n",
      "birth_city     470\n",
      "birth_state    483\n",
      "dtype: int64 \n",
      "\n",
      "\"player_data\" NaNs: \n",
      " Player        0\n",
      "year_start    0\n",
      "year_end      0\n",
      "position      0\n",
      "height        1\n",
      "weight        0\n",
      "birth_date    0\n",
      "college       0\n",
      "dtype: int64 \n",
      "\n",
      "\"seasons_stats\" NaNs: \n",
      " Unnamed: 0        0\n",
      "Year             67\n",
      "Player           67\n",
      "Pos              67\n",
      "Age              75\n",
      "Tm               67\n",
      "G                67\n",
      "GS             6458\n",
      "MP              553\n",
      "PER             590\n",
      "TS%             153\n",
      "3PAr           5852\n",
      "FTr             166\n",
      "ORB%           3899\n",
      "DRB%           3899\n",
      "TRB%           3120\n",
      "AST%           2136\n",
      "STL%           3899\n",
      "BLK%           3899\n",
      "TOV%           5109\n",
      "USG%           5051\n",
      "blanl         24691\n",
      "OWS             106\n",
      "DWS             106\n",
      "WS              106\n",
      "WS/48           590\n",
      "blank2        24691\n",
      "OBPM           3894\n",
      "DBPM           3894\n",
      "BPM            3894\n",
      "VORP           3894\n",
      "FG               67\n",
      "FGA              67\n",
      "FG%             166\n",
      "3P             5764\n",
      "3PA            5764\n",
      "3P%            9275\n",
      "2P               67\n",
      "2PA              67\n",
      "2P%             195\n",
      "eFG%            166\n",
      "FT               67\n",
      "FTA              67\n",
      "FT%             925\n",
      "ORB            3894\n",
      "DRB            3894\n",
      "TRB             379\n",
      "AST              67\n",
      "STL            3894\n",
      "BLK            3894\n",
      "TOV            5046\n",
      "PF               67\n",
      "PTS              67\n",
      "dtype: int64\n"
     ]
    }
   ],
   "source": [
    "print('\"players\" NaNs: \\n', players.isnull().sum(),'\\n')\n",
    "print('\"player_data\" NaNs: \\n', player_data.isnull().sum(),'\\n')\n",
    "print('\"seasons_stats\" NaNs: \\n', seasons_stats.isnull().sum())"
   ]
  },
  {
   "cell_type": "markdown",
   "id": "b5adaa97",
   "metadata": {
    "papermill": {
     "duration": 0.01495,
     "end_time": "2023-09-02T00:30:00.343075",
     "exception": false,
     "start_time": "2023-09-02T00:30:00.328125",
     "status": "completed"
    },
    "tags": []
   },
   "source": [
    "It can be seen that '3P%','blank2','blanl','3PAr','GS','TOV%','USG%','3P','3PA','TOV' contains a lot of missing information that will have an impact on the analysis accuracy. We will remove columns that contains >5000 Nan in table \"seasons_stats\""
   ]
  },
  {
   "cell_type": "code",
   "execution_count": 12,
   "id": "f10fe701",
   "metadata": {
    "execution": {
     "iopub.execute_input": "2023-09-02T00:30:00.375664Z",
     "iopub.status.busy": "2023-09-02T00:30:00.375256Z",
     "iopub.status.idle": "2023-09-02T00:30:00.418026Z",
     "shell.execute_reply": "2023-09-02T00:30:00.416478Z"
    },
    "papermill": {
     "duration": 0.062544,
     "end_time": "2023-09-02T00:30:00.420986",
     "exception": false,
     "start_time": "2023-09-02T00:30:00.358442",
     "status": "completed"
    },
    "tags": []
   },
   "outputs": [
    {
     "data": {
      "text/html": [
       "<div>\n",
       "<style scoped>\n",
       "    .dataframe tbody tr th:only-of-type {\n",
       "        vertical-align: middle;\n",
       "    }\n",
       "\n",
       "    .dataframe tbody tr th {\n",
       "        vertical-align: top;\n",
       "    }\n",
       "\n",
       "    .dataframe thead th {\n",
       "        text-align: right;\n",
       "    }\n",
       "</style>\n",
       "<table border=\"1\" class=\"dataframe\">\n",
       "  <thead>\n",
       "    <tr style=\"text-align: right;\">\n",
       "      <th></th>\n",
       "      <th>Unnamed: 0</th>\n",
       "      <th>Year</th>\n",
       "      <th>Player</th>\n",
       "      <th>Pos</th>\n",
       "      <th>Age</th>\n",
       "      <th>Tm</th>\n",
       "      <th>G</th>\n",
       "      <th>MP</th>\n",
       "      <th>PER</th>\n",
       "      <th>TS%</th>\n",
       "      <th>...</th>\n",
       "      <th>FTA</th>\n",
       "      <th>FT%</th>\n",
       "      <th>ORB</th>\n",
       "      <th>DRB</th>\n",
       "      <th>TRB</th>\n",
       "      <th>AST</th>\n",
       "      <th>STL</th>\n",
       "      <th>BLK</th>\n",
       "      <th>PF</th>\n",
       "      <th>PTS</th>\n",
       "    </tr>\n",
       "  </thead>\n",
       "  <tbody>\n",
       "    <tr>\n",
       "      <th>0</th>\n",
       "      <td>0</td>\n",
       "      <td>1950.0</td>\n",
       "      <td>Curly Armstrong</td>\n",
       "      <td>G-F</td>\n",
       "      <td>31.0</td>\n",
       "      <td>FTW</td>\n",
       "      <td>63.0</td>\n",
       "      <td>NaN</td>\n",
       "      <td>NaN</td>\n",
       "      <td>0.368</td>\n",
       "      <td>...</td>\n",
       "      <td>241.0</td>\n",
       "      <td>0.705</td>\n",
       "      <td>NaN</td>\n",
       "      <td>NaN</td>\n",
       "      <td>NaN</td>\n",
       "      <td>176.0</td>\n",
       "      <td>NaN</td>\n",
       "      <td>NaN</td>\n",
       "      <td>217.0</td>\n",
       "      <td>458.0</td>\n",
       "    </tr>\n",
       "    <tr>\n",
       "      <th>1</th>\n",
       "      <td>1</td>\n",
       "      <td>1950.0</td>\n",
       "      <td>Cliff Barker</td>\n",
       "      <td>SG</td>\n",
       "      <td>29.0</td>\n",
       "      <td>INO</td>\n",
       "      <td>49.0</td>\n",
       "      <td>NaN</td>\n",
       "      <td>NaN</td>\n",
       "      <td>0.435</td>\n",
       "      <td>...</td>\n",
       "      <td>106.0</td>\n",
       "      <td>0.708</td>\n",
       "      <td>NaN</td>\n",
       "      <td>NaN</td>\n",
       "      <td>NaN</td>\n",
       "      <td>109.0</td>\n",
       "      <td>NaN</td>\n",
       "      <td>NaN</td>\n",
       "      <td>99.0</td>\n",
       "      <td>279.0</td>\n",
       "    </tr>\n",
       "    <tr>\n",
       "      <th>2</th>\n",
       "      <td>2</td>\n",
       "      <td>1950.0</td>\n",
       "      <td>Leo Barnhorst</td>\n",
       "      <td>SF</td>\n",
       "      <td>25.0</td>\n",
       "      <td>CHS</td>\n",
       "      <td>67.0</td>\n",
       "      <td>NaN</td>\n",
       "      <td>NaN</td>\n",
       "      <td>0.394</td>\n",
       "      <td>...</td>\n",
       "      <td>129.0</td>\n",
       "      <td>0.698</td>\n",
       "      <td>NaN</td>\n",
       "      <td>NaN</td>\n",
       "      <td>NaN</td>\n",
       "      <td>140.0</td>\n",
       "      <td>NaN</td>\n",
       "      <td>NaN</td>\n",
       "      <td>192.0</td>\n",
       "      <td>438.0</td>\n",
       "    </tr>\n",
       "    <tr>\n",
       "      <th>3</th>\n",
       "      <td>3</td>\n",
       "      <td>1950.0</td>\n",
       "      <td>Ed Bartels</td>\n",
       "      <td>F</td>\n",
       "      <td>24.0</td>\n",
       "      <td>TOT</td>\n",
       "      <td>15.0</td>\n",
       "      <td>NaN</td>\n",
       "      <td>NaN</td>\n",
       "      <td>0.312</td>\n",
       "      <td>...</td>\n",
       "      <td>34.0</td>\n",
       "      <td>0.559</td>\n",
       "      <td>NaN</td>\n",
       "      <td>NaN</td>\n",
       "      <td>NaN</td>\n",
       "      <td>20.0</td>\n",
       "      <td>NaN</td>\n",
       "      <td>NaN</td>\n",
       "      <td>29.0</td>\n",
       "      <td>63.0</td>\n",
       "    </tr>\n",
       "    <tr>\n",
       "      <th>4</th>\n",
       "      <td>4</td>\n",
       "      <td>1950.0</td>\n",
       "      <td>Ed Bartels</td>\n",
       "      <td>F</td>\n",
       "      <td>24.0</td>\n",
       "      <td>DNN</td>\n",
       "      <td>13.0</td>\n",
       "      <td>NaN</td>\n",
       "      <td>NaN</td>\n",
       "      <td>0.308</td>\n",
       "      <td>...</td>\n",
       "      <td>31.0</td>\n",
       "      <td>0.548</td>\n",
       "      <td>NaN</td>\n",
       "      <td>NaN</td>\n",
       "      <td>NaN</td>\n",
       "      <td>20.0</td>\n",
       "      <td>NaN</td>\n",
       "      <td>NaN</td>\n",
       "      <td>27.0</td>\n",
       "      <td>59.0</td>\n",
       "    </tr>\n",
       "  </tbody>\n",
       "</table>\n",
       "<p>5 rows × 43 columns</p>\n",
       "</div>"
      ],
      "text/plain": [
       "   Unnamed: 0    Year           Player  Pos   Age   Tm     G  MP  PER    TS%  \\\n",
       "0           0  1950.0  Curly Armstrong  G-F  31.0  FTW  63.0 NaN  NaN  0.368   \n",
       "1           1  1950.0     Cliff Barker   SG  29.0  INO  49.0 NaN  NaN  0.435   \n",
       "2           2  1950.0    Leo Barnhorst   SF  25.0  CHS  67.0 NaN  NaN  0.394   \n",
       "3           3  1950.0       Ed Bartels    F  24.0  TOT  15.0 NaN  NaN  0.312   \n",
       "4           4  1950.0       Ed Bartels    F  24.0  DNN  13.0 NaN  NaN  0.308   \n",
       "\n",
       "   ...    FTA    FT%  ORB  DRB  TRB    AST  STL  BLK     PF    PTS  \n",
       "0  ...  241.0  0.705  NaN  NaN  NaN  176.0  NaN  NaN  217.0  458.0  \n",
       "1  ...  106.0  0.708  NaN  NaN  NaN  109.0  NaN  NaN   99.0  279.0  \n",
       "2  ...  129.0  0.698  NaN  NaN  NaN  140.0  NaN  NaN  192.0  438.0  \n",
       "3  ...   34.0  0.559  NaN  NaN  NaN   20.0  NaN  NaN   29.0   63.0  \n",
       "4  ...   31.0  0.548  NaN  NaN  NaN   20.0  NaN  NaN   27.0   59.0  \n",
       "\n",
       "[5 rows x 43 columns]"
      ]
     },
     "execution_count": 12,
     "metadata": {},
     "output_type": "execute_result"
    }
   ],
   "source": [
    "seasons_stats = seasons_stats.drop(['3P%','blank2','blanl','3PAr','GS','TOV%','USG%','3P','3PA','TOV'], axis=1)\n",
    "seasons_stats.head()"
   ]
  },
  {
   "cell_type": "markdown",
   "id": "df1ab8c1",
   "metadata": {
    "papermill": {
     "duration": 0.017141,
     "end_time": "2023-09-02T00:30:00.456686",
     "exception": false,
     "start_time": "2023-09-02T00:30:00.439545",
     "status": "completed"
    },
    "tags": []
   },
   "source": [
    "remove unimportant for statistical analysis information"
   ]
  },
  {
   "cell_type": "code",
   "execution_count": 13,
   "id": "7fb29c16",
   "metadata": {
    "execution": {
     "iopub.execute_input": "2023-09-02T00:30:00.492492Z",
     "iopub.status.busy": "2023-09-02T00:30:00.492001Z",
     "iopub.status.idle": "2023-09-02T00:30:00.507582Z",
     "shell.execute_reply": "2023-09-02T00:30:00.506139Z"
    },
    "papermill": {
     "duration": 0.037119,
     "end_time": "2023-09-02T00:30:00.510391",
     "exception": false,
     "start_time": "2023-09-02T00:30:00.473272",
     "status": "completed"
    },
    "tags": []
   },
   "outputs": [],
   "source": [
    "seasons_stats = seasons_stats.drop(['Unnamed: 0'], axis=1)\n",
    "players = players.drop(['Unnamed: 0'], axis=1)"
   ]
  },
  {
   "cell_type": "code",
   "execution_count": 14,
   "id": "68ab2ac5",
   "metadata": {
    "execution": {
     "iopub.execute_input": "2023-09-02T00:30:00.548334Z",
     "iopub.status.busy": "2023-09-02T00:30:00.547224Z",
     "iopub.status.idle": "2023-09-02T00:30:00.561727Z",
     "shell.execute_reply": "2023-09-02T00:30:00.560833Z"
    },
    "papermill": {
     "duration": 0.036438,
     "end_time": "2023-09-02T00:30:00.564470",
     "exception": false,
     "start_time": "2023-09-02T00:30:00.528032",
     "status": "completed"
    },
    "tags": []
   },
   "outputs": [
    {
     "name": "stdout",
     "output_type": "stream",
     "text": [
      "In \"players\" unique name / all names:  3920 / 3922\n",
      "In \"player_data\" unique name / all names:  4500 / 4550\n",
      "In \"seasons_stats\" unique name / all names:  3920 / 4550\n"
     ]
    }
   ],
   "source": [
    "print('In \"players\" unique name / all names: ', len(players['Player'].unique()),'/',len(players))\n",
    "print('In \"player_data\" unique name / all names: ', len(player_data['Player'].unique()),'/',len(player_data))\n",
    "print('In \"seasons_stats\" unique name / all names: ', len(seasons_stats['Player'].unique()),'/',len(player_data))"
   ]
  },
  {
   "cell_type": "markdown",
   "id": "985504c0",
   "metadata": {
    "papermill": {
     "duration": 0.018314,
     "end_time": "2023-09-02T00:30:00.696305",
     "exception": false,
     "start_time": "2023-09-02T00:30:00.677991",
     "status": "completed"
    },
    "tags": []
   },
   "source": [
    "players name is important information. Two tables provide information for some players more then once. This need to ba taken in attantion"
   ]
  },
  {
   "cell_type": "markdown",
   "id": "14cc89a6",
   "metadata": {
    "papermill": {
     "duration": 0.020783,
     "end_time": "2023-09-02T00:30:00.737063",
     "exception": false,
     "start_time": "2023-09-02T00:30:00.716280",
     "status": "completed"
    },
    "tags": []
   },
   "source": [
    "marge all tables using left-merging option"
   ]
  },
  {
   "cell_type": "code",
   "execution_count": 15,
   "id": "2476a8dd",
   "metadata": {
    "execution": {
     "iopub.execute_input": "2023-09-02T00:30:00.783670Z",
     "iopub.status.busy": "2023-09-02T00:30:00.783250Z",
     "iopub.status.idle": "2023-09-02T00:30:03.386060Z",
     "shell.execute_reply": "2023-09-02T00:30:03.384356Z"
    },
    "papermill": {
     "duration": 2.62788,
     "end_time": "2023-09-02T00:30:03.388556",
     "exception": true,
     "start_time": "2023-09-02T00:30:00.760676",
     "status": "failed"
    },
    "tags": []
   },
   "outputs": [
    {
     "ename": "KeyError",
     "evalue": "\"['Unnamed: 0_x', 'Unnamed: 0_y'] not found in axis\"",
     "output_type": "error",
     "traceback": [
      "\u001b[0;31m---------------------------------------------------------------------------\u001b[0m",
      "\u001b[0;31mKeyError\u001b[0m                                  Traceback (most recent call last)",
      "Cell \u001b[0;32mIn[15], line 2\u001b[0m\n\u001b[1;32m      1\u001b[0m df \u001b[38;5;241m=\u001b[39m seasons_stats\u001b[38;5;241m.\u001b[39mmerge(players,how \u001b[38;5;241m=\u001b[39m \u001b[38;5;124m'\u001b[39m\u001b[38;5;124mleft\u001b[39m\u001b[38;5;124m'\u001b[39m, on \u001b[38;5;241m=\u001b[39m \u001b[38;5;124m'\u001b[39m\u001b[38;5;124mPlayer\u001b[39m\u001b[38;5;124m'\u001b[39m)\n\u001b[0;32m----> 2\u001b[0m df \u001b[38;5;241m=\u001b[39m \u001b[43mdf\u001b[49m\u001b[38;5;241;43m.\u001b[39;49m\u001b[43mdrop\u001b[49m\u001b[43m(\u001b[49m\u001b[43m[\u001b[49m\u001b[38;5;124;43m'\u001b[39;49m\u001b[38;5;124;43mUnnamed: 0_x\u001b[39;49m\u001b[38;5;124;43m'\u001b[39;49m\u001b[43m,\u001b[49m\u001b[38;5;124;43m'\u001b[39;49m\u001b[38;5;124;43mUnnamed: 0_y\u001b[39;49m\u001b[38;5;124;43m'\u001b[39;49m\u001b[43m]\u001b[49m\u001b[43m,\u001b[49m\u001b[43m \u001b[49m\u001b[43maxis\u001b[49m\u001b[38;5;241;43m=\u001b[39;49m\u001b[38;5;241;43m1\u001b[39;49m\u001b[43m)\u001b[49m\n\u001b[1;32m      3\u001b[0m \u001b[38;5;28mprint\u001b[39m(\u001b[38;5;28mlen\u001b[39m(df))\n\u001b[1;32m      4\u001b[0m df\u001b[38;5;241m.\u001b[39mhead()\n",
      "File \u001b[0;32m/opt/conda/lib/python3.10/site-packages/pandas/core/frame.py:5258\u001b[0m, in \u001b[0;36mDataFrame.drop\u001b[0;34m(self, labels, axis, index, columns, level, inplace, errors)\u001b[0m\n\u001b[1;32m   5110\u001b[0m \u001b[38;5;28;01mdef\u001b[39;00m \u001b[38;5;21mdrop\u001b[39m(\n\u001b[1;32m   5111\u001b[0m     \u001b[38;5;28mself\u001b[39m,\n\u001b[1;32m   5112\u001b[0m     labels: IndexLabel \u001b[38;5;241m=\u001b[39m \u001b[38;5;28;01mNone\u001b[39;00m,\n\u001b[0;32m   (...)\u001b[0m\n\u001b[1;32m   5119\u001b[0m     errors: IgnoreRaise \u001b[38;5;241m=\u001b[39m \u001b[38;5;124m\"\u001b[39m\u001b[38;5;124mraise\u001b[39m\u001b[38;5;124m\"\u001b[39m,\n\u001b[1;32m   5120\u001b[0m ) \u001b[38;5;241m-\u001b[39m\u001b[38;5;241m>\u001b[39m DataFrame \u001b[38;5;241m|\u001b[39m \u001b[38;5;28;01mNone\u001b[39;00m:\n\u001b[1;32m   5121\u001b[0m \u001b[38;5;250m    \u001b[39m\u001b[38;5;124;03m\"\"\"\u001b[39;00m\n\u001b[1;32m   5122\u001b[0m \u001b[38;5;124;03m    Drop specified labels from rows or columns.\u001b[39;00m\n\u001b[1;32m   5123\u001b[0m \n\u001b[0;32m   (...)\u001b[0m\n\u001b[1;32m   5256\u001b[0m \u001b[38;5;124;03m            weight  1.0     0.8\u001b[39;00m\n\u001b[1;32m   5257\u001b[0m \u001b[38;5;124;03m    \"\"\"\u001b[39;00m\n\u001b[0;32m-> 5258\u001b[0m     \u001b[38;5;28;01mreturn\u001b[39;00m \u001b[38;5;28;43msuper\u001b[39;49m\u001b[43m(\u001b[49m\u001b[43m)\u001b[49m\u001b[38;5;241;43m.\u001b[39;49m\u001b[43mdrop\u001b[49m\u001b[43m(\u001b[49m\n\u001b[1;32m   5259\u001b[0m \u001b[43m        \u001b[49m\u001b[43mlabels\u001b[49m\u001b[38;5;241;43m=\u001b[39;49m\u001b[43mlabels\u001b[49m\u001b[43m,\u001b[49m\n\u001b[1;32m   5260\u001b[0m \u001b[43m        \u001b[49m\u001b[43maxis\u001b[49m\u001b[38;5;241;43m=\u001b[39;49m\u001b[43maxis\u001b[49m\u001b[43m,\u001b[49m\n\u001b[1;32m   5261\u001b[0m \u001b[43m        \u001b[49m\u001b[43mindex\u001b[49m\u001b[38;5;241;43m=\u001b[39;49m\u001b[43mindex\u001b[49m\u001b[43m,\u001b[49m\n\u001b[1;32m   5262\u001b[0m \u001b[43m        \u001b[49m\u001b[43mcolumns\u001b[49m\u001b[38;5;241;43m=\u001b[39;49m\u001b[43mcolumns\u001b[49m\u001b[43m,\u001b[49m\n\u001b[1;32m   5263\u001b[0m \u001b[43m        \u001b[49m\u001b[43mlevel\u001b[49m\u001b[38;5;241;43m=\u001b[39;49m\u001b[43mlevel\u001b[49m\u001b[43m,\u001b[49m\n\u001b[1;32m   5264\u001b[0m \u001b[43m        \u001b[49m\u001b[43minplace\u001b[49m\u001b[38;5;241;43m=\u001b[39;49m\u001b[43minplace\u001b[49m\u001b[43m,\u001b[49m\n\u001b[1;32m   5265\u001b[0m \u001b[43m        \u001b[49m\u001b[43merrors\u001b[49m\u001b[38;5;241;43m=\u001b[39;49m\u001b[43merrors\u001b[49m\u001b[43m,\u001b[49m\n\u001b[1;32m   5266\u001b[0m \u001b[43m    \u001b[49m\u001b[43m)\u001b[49m\n",
      "File \u001b[0;32m/opt/conda/lib/python3.10/site-packages/pandas/core/generic.py:4549\u001b[0m, in \u001b[0;36mNDFrame.drop\u001b[0;34m(self, labels, axis, index, columns, level, inplace, errors)\u001b[0m\n\u001b[1;32m   4547\u001b[0m \u001b[38;5;28;01mfor\u001b[39;00m axis, labels \u001b[38;5;129;01min\u001b[39;00m axes\u001b[38;5;241m.\u001b[39mitems():\n\u001b[1;32m   4548\u001b[0m     \u001b[38;5;28;01mif\u001b[39;00m labels \u001b[38;5;129;01mis\u001b[39;00m \u001b[38;5;129;01mnot\u001b[39;00m \u001b[38;5;28;01mNone\u001b[39;00m:\n\u001b[0;32m-> 4549\u001b[0m         obj \u001b[38;5;241m=\u001b[39m \u001b[43mobj\u001b[49m\u001b[38;5;241;43m.\u001b[39;49m\u001b[43m_drop_axis\u001b[49m\u001b[43m(\u001b[49m\u001b[43mlabels\u001b[49m\u001b[43m,\u001b[49m\u001b[43m \u001b[49m\u001b[43maxis\u001b[49m\u001b[43m,\u001b[49m\u001b[43m \u001b[49m\u001b[43mlevel\u001b[49m\u001b[38;5;241;43m=\u001b[39;49m\u001b[43mlevel\u001b[49m\u001b[43m,\u001b[49m\u001b[43m \u001b[49m\u001b[43merrors\u001b[49m\u001b[38;5;241;43m=\u001b[39;49m\u001b[43merrors\u001b[49m\u001b[43m)\u001b[49m\n\u001b[1;32m   4551\u001b[0m \u001b[38;5;28;01mif\u001b[39;00m inplace:\n\u001b[1;32m   4552\u001b[0m     \u001b[38;5;28mself\u001b[39m\u001b[38;5;241m.\u001b[39m_update_inplace(obj)\n",
      "File \u001b[0;32m/opt/conda/lib/python3.10/site-packages/pandas/core/generic.py:4591\u001b[0m, in \u001b[0;36mNDFrame._drop_axis\u001b[0;34m(self, labels, axis, level, errors, only_slice)\u001b[0m\n\u001b[1;32m   4589\u001b[0m         new_axis \u001b[38;5;241m=\u001b[39m axis\u001b[38;5;241m.\u001b[39mdrop(labels, level\u001b[38;5;241m=\u001b[39mlevel, errors\u001b[38;5;241m=\u001b[39merrors)\n\u001b[1;32m   4590\u001b[0m     \u001b[38;5;28;01melse\u001b[39;00m:\n\u001b[0;32m-> 4591\u001b[0m         new_axis \u001b[38;5;241m=\u001b[39m \u001b[43maxis\u001b[49m\u001b[38;5;241;43m.\u001b[39;49m\u001b[43mdrop\u001b[49m\u001b[43m(\u001b[49m\u001b[43mlabels\u001b[49m\u001b[43m,\u001b[49m\u001b[43m \u001b[49m\u001b[43merrors\u001b[49m\u001b[38;5;241;43m=\u001b[39;49m\u001b[43merrors\u001b[49m\u001b[43m)\u001b[49m\n\u001b[1;32m   4592\u001b[0m     indexer \u001b[38;5;241m=\u001b[39m axis\u001b[38;5;241m.\u001b[39mget_indexer(new_axis)\n\u001b[1;32m   4594\u001b[0m \u001b[38;5;66;03m# Case for non-unique axis\u001b[39;00m\n\u001b[1;32m   4595\u001b[0m \u001b[38;5;28;01melse\u001b[39;00m:\n",
      "File \u001b[0;32m/opt/conda/lib/python3.10/site-packages/pandas/core/indexes/base.py:6699\u001b[0m, in \u001b[0;36mIndex.drop\u001b[0;34m(self, labels, errors)\u001b[0m\n\u001b[1;32m   6697\u001b[0m \u001b[38;5;28;01mif\u001b[39;00m mask\u001b[38;5;241m.\u001b[39many():\n\u001b[1;32m   6698\u001b[0m     \u001b[38;5;28;01mif\u001b[39;00m errors \u001b[38;5;241m!=\u001b[39m \u001b[38;5;124m\"\u001b[39m\u001b[38;5;124mignore\u001b[39m\u001b[38;5;124m\"\u001b[39m:\n\u001b[0;32m-> 6699\u001b[0m         \u001b[38;5;28;01mraise\u001b[39;00m \u001b[38;5;167;01mKeyError\u001b[39;00m(\u001b[38;5;124mf\u001b[39m\u001b[38;5;124m\"\u001b[39m\u001b[38;5;132;01m{\u001b[39;00m\u001b[38;5;28mlist\u001b[39m(labels[mask])\u001b[38;5;132;01m}\u001b[39;00m\u001b[38;5;124m not found in axis\u001b[39m\u001b[38;5;124m\"\u001b[39m)\n\u001b[1;32m   6700\u001b[0m     indexer \u001b[38;5;241m=\u001b[39m indexer[\u001b[38;5;241m~\u001b[39mmask]\n\u001b[1;32m   6701\u001b[0m \u001b[38;5;28;01mreturn\u001b[39;00m \u001b[38;5;28mself\u001b[39m\u001b[38;5;241m.\u001b[39mdelete(indexer)\n",
      "\u001b[0;31mKeyError\u001b[0m: \"['Unnamed: 0_x', 'Unnamed: 0_y'] not found in axis\""
     ]
    }
   ],
   "source": [
    "df = seasons_stats.merge(players,how = 'left', on = 'Player')\n",
    "df = df.drop(['Unnamed: 0_x','Unnamed: 0_y'], axis=1)\n",
    "print(len(df))\n",
    "df.head()"
   ]
  },
  {
   "cell_type": "code",
   "execution_count": null,
   "id": "bc1db99a",
   "metadata": {
    "execution": {
     "iopub.execute_input": "2023-09-01T23:53:34.066183Z",
     "iopub.status.busy": "2023-09-01T23:53:34.065597Z",
     "iopub.status.idle": "2023-09-01T23:53:34.145093Z",
     "shell.execute_reply": "2023-09-01T23:53:34.143586Z",
     "shell.execute_reply.started": "2023-09-01T23:53:34.066128Z"
    },
    "papermill": {
     "duration": null,
     "end_time": null,
     "exception": null,
     "start_time": null,
     "status": "pending"
    },
    "tags": []
   },
   "outputs": [],
   "source": [
    "df.groupby(['Player','Year']).get_group((\"Ed Bartels\",1950))"
   ]
  },
  {
   "cell_type": "markdown",
   "id": "cb6bf3e0",
   "metadata": {
    "papermill": {
     "duration": null,
     "end_time": null,
     "exception": null,
     "start_time": null,
     "status": "pending"
    },
    "tags": []
   },
   "source": [
    "we can see that for some players contain multiple information about games. Thus, for Ed Bartels TOT ('total') includes DNN and NYK. We want to remove TOT information"
   ]
  },
  {
   "cell_type": "code",
   "execution_count": null,
   "id": "18425109",
   "metadata": {
    "execution": {
     "iopub.execute_input": "2023-09-01T23:53:40.233473Z",
     "iopub.status.busy": "2023-09-01T23:53:40.233122Z",
     "iopub.status.idle": "2023-09-01T23:54:00.032308Z",
     "shell.execute_reply": "2023-09-01T23:54:00.031108Z",
     "shell.execute_reply.started": "2023-09-01T23:53:40.233449Z"
    },
    "papermill": {
     "duration": null,
     "end_time": null,
     "exception": null,
     "start_time": null,
     "status": "pending"
    },
    "tags": []
   },
   "outputs": [],
   "source": [
    "def single_row(df_tem):\n",
    "    if df_tem.shape[0]==1:\n",
    "        return df_tem\n",
    "    else:\n",
    "        row=df_tem[df_tem['Tm']=='TOT']\n",
    "        row['Tm']=df_tem.iloc[-1,:]['Tm']\n",
    "        \n",
    "df=df.groupby(['Player','Year']).apply(single_row)"
   ]
  },
  {
   "cell_type": "code",
   "execution_count": null,
   "id": "534ae221",
   "metadata": {
    "execution": {
     "iopub.execute_input": "2023-09-01T23:54:00.034211Z",
     "iopub.status.busy": "2023-09-01T23:54:00.033973Z",
     "iopub.status.idle": "2023-09-01T23:54:00.078060Z",
     "shell.execute_reply": "2023-09-01T23:54:00.076666Z",
     "shell.execute_reply.started": "2023-09-01T23:54:00.034190Z"
    },
    "papermill": {
     "duration": null,
     "end_time": null,
     "exception": null,
     "start_time": null,
     "status": "pending"
    },
    "tags": []
   },
   "outputs": [],
   "source": [
    "df.head(20)"
   ]
  },
  {
   "cell_type": "markdown",
   "id": "aaa4b50b",
   "metadata": {
    "papermill": {
     "duration": null,
     "end_time": null,
     "exception": null,
     "start_time": null,
     "status": "pending"
    },
    "tags": []
   },
   "source": [
    "we need to drop two columns on the left"
   ]
  },
  {
   "cell_type": "code",
   "execution_count": null,
   "id": "8465e8fd",
   "metadata": {
    "execution": {
     "iopub.execute_input": "2023-09-01T23:54:00.079487Z",
     "iopub.status.busy": "2023-09-01T23:54:00.079213Z",
     "iopub.status.idle": "2023-09-01T23:54:00.085065Z",
     "shell.execute_reply": "2023-09-01T23:54:00.083589Z",
     "shell.execute_reply.started": "2023-09-01T23:54:00.079463Z"
    },
    "papermill": {
     "duration": null,
     "end_time": null,
     "exception": null,
     "start_time": null,
     "status": "pending"
    },
    "tags": []
   },
   "outputs": [],
   "source": [
    "df.index=df.index.droplevel()\n",
    "df.index=df.index.droplevel()"
   ]
  },
  {
   "cell_type": "code",
   "execution_count": null,
   "id": "19601c96",
   "metadata": {
    "execution": {
     "iopub.execute_input": "2023-09-01T23:54:00.087602Z",
     "iopub.status.busy": "2023-09-01T23:54:00.087307Z",
     "iopub.status.idle": "2023-09-01T23:54:00.134497Z",
     "shell.execute_reply": "2023-09-01T23:54:00.133053Z",
     "shell.execute_reply.started": "2023-09-01T23:54:00.087574Z"
    },
    "papermill": {
     "duration": null,
     "end_time": null,
     "exception": null,
     "start_time": null,
     "status": "pending"
    },
    "tags": []
   },
   "outputs": [],
   "source": [
    "df.head(20)"
   ]
  },
  {
   "cell_type": "markdown",
   "id": "ef0a5e00",
   "metadata": {
    "papermill": {
     "duration": null,
     "end_time": null,
     "exception": null,
     "start_time": null,
     "status": "pending"
    },
    "tags": []
   },
   "source": [
    "combine two tables df and player_data"
   ]
  },
  {
   "cell_type": "code",
   "execution_count": null,
   "id": "6a83a755",
   "metadata": {
    "execution": {
     "iopub.execute_input": "2023-09-01T23:56:40.742940Z",
     "iopub.status.busy": "2023-09-01T23:56:40.742608Z",
     "iopub.status.idle": "2023-09-01T23:56:40.768789Z",
     "shell.execute_reply": "2023-09-01T23:56:40.767395Z",
     "shell.execute_reply.started": "2023-09-01T23:56:40.742919Z"
    },
    "papermill": {
     "duration": null,
     "end_time": null,
     "exception": null,
     "start_time": null,
     "status": "pending"
    },
    "tags": []
   },
   "outputs": [],
   "source": [
    "df2=df.merge(player_data,how=\"outer\",on=[\"Player\"])"
   ]
  },
  {
   "cell_type": "code",
   "execution_count": null,
   "id": "442a32e2",
   "metadata": {
    "execution": {
     "iopub.execute_input": "2023-09-02T00:09:22.343586Z",
     "iopub.status.busy": "2023-09-02T00:09:22.342806Z",
     "iopub.status.idle": "2023-09-02T00:09:22.367016Z",
     "shell.execute_reply": "2023-09-02T00:09:22.365656Z",
     "shell.execute_reply.started": "2023-09-02T00:09:22.343554Z"
    },
    "papermill": {
     "duration": null,
     "end_time": null,
     "exception": null,
     "start_time": null,
     "status": "pending"
    },
    "tags": []
   },
   "outputs": [],
   "source": [
    "df2 = df2.fillna(0)\n",
    "df2.head(20)"
   ]
  },
  {
   "cell_type": "markdown",
   "id": "5ba19d5f",
   "metadata": {
    "papermill": {
     "duration": null,
     "end_time": null,
     "exception": null,
     "start_time": null,
     "status": "pending"
    },
    "tags": []
   },
   "source": [
    "- drop column \"birth_date\" as it do not contain important information and repeats column \"born\""
   ]
  },
  {
   "cell_type": "code",
   "execution_count": null,
   "id": "3aa4520e",
   "metadata": {
    "execution": {
     "iopub.execute_input": "2023-09-02T00:09:17.868241Z",
     "iopub.status.busy": "2023-09-02T00:09:17.867685Z",
     "iopub.status.idle": "2023-09-02T00:09:18.258203Z",
     "shell.execute_reply": "2023-09-02T00:09:18.257255Z",
     "shell.execute_reply.started": "2023-09-02T00:09:17.868215Z"
    },
    "papermill": {
     "duration": null,
     "end_time": null,
     "exception": null,
     "start_time": null,
     "status": "pending"
    },
    "tags": []
   },
   "outputs": [],
   "source": [
    "df2 = df2.drop(['birth_date'], axis=1)"
   ]
  },
  {
   "cell_type": "markdown",
   "id": "5aef3727",
   "metadata": {
    "execution": {
     "iopub.execute_input": "2023-09-01T22:15:07.629830Z",
     "iopub.status.busy": "2023-09-01T22:15:07.629256Z",
     "iopub.status.idle": "2023-09-01T22:15:07.635711Z",
     "shell.execute_reply": "2023-09-01T22:15:07.633693Z",
     "shell.execute_reply.started": "2023-09-01T22:15:07.629793Z"
    },
    "papermill": {
     "duration": null,
     "end_time": null,
     "exception": null,
     "start_time": null,
     "status": "pending"
    },
    "tags": []
   },
   "source": [
    "# 2.2 Data Visualisation"
   ]
  },
  {
   "cell_type": "code",
   "execution_count": null,
   "id": "f9ac8746",
   "metadata": {
    "execution": {
     "iopub.execute_input": "2023-09-01T22:15:58.452394Z",
     "iopub.status.busy": "2023-09-01T22:15:58.451930Z",
     "iopub.status.idle": "2023-09-01T22:15:58.538260Z",
     "shell.execute_reply": "2023-09-01T22:15:58.536787Z",
     "shell.execute_reply.started": "2023-09-01T22:15:58.452355Z"
    },
    "papermill": {
     "duration": null,
     "end_time": null,
     "exception": null,
     "start_time": null,
     "status": "pending"
    },
    "tags": []
   },
   "outputs": [],
   "source": [
    "fig = px.histogram(df, x='Age', marginal='box', color_discrete_sequence=['green'], nbins=47, title='Age distribution')\n",
    "fig.update_layout(bargap=0.1)\n",
    "fig.show()"
   ]
  },
  {
   "cell_type": "code",
   "execution_count": null,
   "id": "ff73533b",
   "metadata": {
    "execution": {
     "iopub.execute_input": "2023-09-01T22:16:35.302214Z",
     "iopub.status.busy": "2023-09-01T22:16:35.301774Z",
     "iopub.status.idle": "2023-09-01T22:16:35.383075Z",
     "shell.execute_reply": "2023-09-01T22:16:35.381616Z",
     "shell.execute_reply.started": "2023-09-01T22:16:35.302183Z"
    },
    "papermill": {
     "duration": null,
     "end_time": null,
     "exception": null,
     "start_time": null,
     "status": "pending"
    },
    "tags": []
   },
   "outputs": [],
   "source": [
    "fig = px.histogram(df, x='Year', marginal='box', color_discrete_sequence=['blue'], y='PF', nbins=47, title='Personal Fouls per year ')\n",
    "fig.update_layout(bargap=0.1)\n",
    "fig.show()"
   ]
  }
 ],
 "kernelspec": {
  "display_name": "Python 3",
  "language": "python",
  "name": "python3"
 },
 "language_info": {
  "codemirror_mode": {
   "name": "ipython",
   "version": 3
  },
  "file_extension": ".py",
  "mimetype": "text/x-python",
  "name": "python",
  "nbconvert_exporter": "python",
  "pygments_lexer": "ipython3",
  "version": "3.6.4"
 },
 "metadata": {
  "kernelspec": {
   "display_name": "Python 3",
   "language": "python",
   "name": "python3"
  },
  "language_info": {
   "codemirror_mode": {
    "name": "ipython",
    "version": 3
   },
   "file_extension": ".py",
   "mimetype": "text/x-python",
   "name": "python",
   "nbconvert_exporter": "python",
   "pygments_lexer": "ipython3",
   "version": "3.10.12"
  },
  "papermill": {
   "default_parameters": {},
   "duration": 12.563777,
   "end_time": "2023-09-02T00:30:04.737791",
   "environment_variables": {},
   "exception": true,
   "input_path": "__notebook__.ipynb",
   "output_path": "__notebook__.ipynb",
   "parameters": {},
   "start_time": "2023-09-02T00:29:52.174014",
   "version": "2.4.0"
  }
 },
 "nbformat": 4,
 "nbformat_minor": 5
}
