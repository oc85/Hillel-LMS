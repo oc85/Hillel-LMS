{
 "cells": [
  {
   "cell_type": "markdown",
   "id": "ed959dd6",
   "metadata": {
    "papermill": {
     "duration": 0.008031,
     "end_time": "2023-08-28T20:11:14.886196",
     "exception": false,
     "start_time": "2023-08-28T20:11:14.878165",
     "status": "completed"
    },
    "tags": []
   },
   "source": [
    "<center>\n",
    "<img src=\"../../img/ods_stickers.jpg\">\n",
    "## Открытый курс по машинному обучению\n",
    "<center>\n",
    "Автор материала: Юрий Кашницкий, программист-исследователь Mail.Ru Group <br> \n",
    "\n",
    "Материал распространяется на условиях лицензии [Creative Commons CC BY-NC-SA 4.0](https://creativecommons.org/licenses/by-nc-sa/4.0/). Можно использовать в любых целях (редактировать, поправлять и брать за основу), кроме коммерческих, но с обязательным упоминанием автора материала."
   ]
  },
  {
   "cell_type": "markdown",
   "id": "5f174df4",
   "metadata": {
    "papermill": {
     "duration": 0.007231,
     "end_time": "2023-08-28T20:11:14.901067",
     "exception": false,
     "start_time": "2023-08-28T20:11:14.893836",
     "status": "completed"
    },
    "tags": []
   },
   "source": [
    "# <center>Домашнее задание № 1 (демо).<br> Анализ данных по доходу населения UCI Adult</center>"
   ]
  },
  {
   "cell_type": "markdown",
   "id": "d83a3544",
   "metadata": {
    "papermill": {
     "duration": 0.007276,
     "end_time": "2023-08-28T20:11:14.916523",
     "exception": false,
     "start_time": "2023-08-28T20:11:14.909247",
     "status": "completed"
    },
    "tags": []
   },
   "source": [
    "**В задании предлагается с помощью Pandas ответить на несколько вопросов по данным репозитория UCI [Adult](https://archive.ics.uci.edu/ml/datasets/Adult) (качать данные не надо – они уже есть в репозитории).**"
   ]
  },
  {
   "cell_type": "markdown",
   "id": "9d2f25dd",
   "metadata": {
    "papermill": {
     "duration": 0.008198,
     "end_time": "2023-08-28T20:11:14.933885",
     "exception": false,
     "start_time": "2023-08-28T20:11:14.925687",
     "status": "completed"
    },
    "tags": []
   },
   "source": [
    "Уникальные значения признаков (больше информации по ссылке выше):\n",
    "- age: continuous.\n",
    "- workclass: Private, Self-emp-not-inc, Self-emp-inc, Federal-gov, Local-gov, State-gov, Without-pay, Never-worked.\n",
    "- fnlwgt: continuous.\n",
    "- education: Bachelors, Some-college, 11th, HS-grad, Prof-school, Assoc-acdm, Assoc-voc, 9th, 7th-8th, 12th, Masters, 1st-4th, 10th, Doctorate, 5th-6th, Preschool.\n",
    "- education-num: continuous.\n",
    "- marital-status: Married-civ-spouse, Divorced, Never-married, Separated, Widowed, Married-spouse-absent, Married-AF-spouse.\n",
    "- occupation: Tech-support, Craft-repair, Other-service, Sales, Exec-managerial, Prof-specialty, Handlers-cleaners, Machine-op-inspct, Adm-clerical, Farming-fishing, Transport-moving, Priv-house-serv, Protective-serv, Armed-Forces.\n",
    "- relationship: Wife, Own-child, Husband, Not-in-family, Other-relative, Unmarried.\n",
    "- race: White, Asian-Pac-Islander, Amer-Indian-Eskimo, Other, Black.\n",
    "- sex: Female, Male.\n",
    "- capital-gain: continuous.\n",
    "- capital-loss: continuous.\n",
    "- hours-per-week: continuous.\n",
    "- native-country: United-States, Cambodia, England, Puerto-Rico, Canada, Germany, Outlying-US(Guam-USVI-etc), India, Japan, Greece, South, China, Cuba, Iran, Honduras, Philippines, Italy, Poland, Jamaica, Vietnam, Mexico, Portugal, Ireland, France, Dominican-Republic, Laos, Ecuador, Taiwan, Haiti, Columbia, Hungary, Guatemala, Nicaragua, Scotland, Thailand, Yugoslavia, El-Salvador, Trinadad&Tobago, Peru, Hong, Holand-Netherlands.   \n",
    "- salary: >50K,<=50K"
   ]
  },
  {
   "cell_type": "code",
   "execution_count": 1,
   "id": "459b5cd3",
   "metadata": {
    "execution": {
     "iopub.execute_input": "2023-08-28T20:11:14.956154Z",
     "iopub.status.busy": "2023-08-28T20:11:14.955560Z",
     "iopub.status.idle": "2023-08-28T20:11:14.971813Z",
     "shell.execute_reply": "2023-08-28T20:11:14.970763Z"
    },
    "papermill": {
     "duration": 0.031942,
     "end_time": "2023-08-28T20:11:14.974419",
     "exception": false,
     "start_time": "2023-08-28T20:11:14.942477",
     "status": "completed"
    },
    "tags": []
   },
   "outputs": [],
   "source": [
    "import pandas as pd"
   ]
  },
  {
   "cell_type": "code",
   "execution_count": 2,
   "id": "bba86596",
   "metadata": {
    "execution": {
     "iopub.execute_input": "2023-08-28T20:11:14.993122Z",
     "iopub.status.busy": "2023-08-28T20:11:14.992607Z",
     "iopub.status.idle": "2023-08-28T20:11:15.184180Z",
     "shell.execute_reply": "2023-08-28T20:11:15.182987Z"
    },
    "papermill": {
     "duration": 0.203882,
     "end_time": "2023-08-28T20:11:15.186521",
     "exception": false,
     "start_time": "2023-08-28T20:11:14.982639",
     "status": "completed"
    },
    "tags": []
   },
   "outputs": [
    {
     "data": {
      "text/html": [
       "<div>\n",
       "<style scoped>\n",
       "    .dataframe tbody tr th:only-of-type {\n",
       "        vertical-align: middle;\n",
       "    }\n",
       "\n",
       "    .dataframe tbody tr th {\n",
       "        vertical-align: top;\n",
       "    }\n",
       "\n",
       "    .dataframe thead th {\n",
       "        text-align: right;\n",
       "    }\n",
       "</style>\n",
       "<table border=\"1\" class=\"dataframe\">\n",
       "  <thead>\n",
       "    <tr style=\"text-align: right;\">\n",
       "      <th></th>\n",
       "      <th>age</th>\n",
       "      <th>workclass</th>\n",
       "      <th>fnlwgt</th>\n",
       "      <th>education</th>\n",
       "      <th>education-num</th>\n",
       "      <th>marital-status</th>\n",
       "      <th>occupation</th>\n",
       "      <th>relationship</th>\n",
       "      <th>race</th>\n",
       "      <th>sex</th>\n",
       "      <th>capital-gain</th>\n",
       "      <th>capital-loss</th>\n",
       "      <th>hours-per-week</th>\n",
       "      <th>native-country</th>\n",
       "      <th>salary</th>\n",
       "    </tr>\n",
       "  </thead>\n",
       "  <tbody>\n",
       "    <tr>\n",
       "      <th>0</th>\n",
       "      <td>39</td>\n",
       "      <td>State-gov</td>\n",
       "      <td>77516</td>\n",
       "      <td>Bachelors</td>\n",
       "      <td>13</td>\n",
       "      <td>Never-married</td>\n",
       "      <td>Adm-clerical</td>\n",
       "      <td>Not-in-family</td>\n",
       "      <td>White</td>\n",
       "      <td>Male</td>\n",
       "      <td>2174</td>\n",
       "      <td>0</td>\n",
       "      <td>40</td>\n",
       "      <td>United-States</td>\n",
       "      <td>&lt;=50K</td>\n",
       "    </tr>\n",
       "    <tr>\n",
       "      <th>1</th>\n",
       "      <td>50</td>\n",
       "      <td>Self-emp-not-inc</td>\n",
       "      <td>83311</td>\n",
       "      <td>Bachelors</td>\n",
       "      <td>13</td>\n",
       "      <td>Married-civ-spouse</td>\n",
       "      <td>Exec-managerial</td>\n",
       "      <td>Husband</td>\n",
       "      <td>White</td>\n",
       "      <td>Male</td>\n",
       "      <td>0</td>\n",
       "      <td>0</td>\n",
       "      <td>13</td>\n",
       "      <td>United-States</td>\n",
       "      <td>&lt;=50K</td>\n",
       "    </tr>\n",
       "    <tr>\n",
       "      <th>2</th>\n",
       "      <td>38</td>\n",
       "      <td>Private</td>\n",
       "      <td>215646</td>\n",
       "      <td>HS-grad</td>\n",
       "      <td>9</td>\n",
       "      <td>Divorced</td>\n",
       "      <td>Handlers-cleaners</td>\n",
       "      <td>Not-in-family</td>\n",
       "      <td>White</td>\n",
       "      <td>Male</td>\n",
       "      <td>0</td>\n",
       "      <td>0</td>\n",
       "      <td>40</td>\n",
       "      <td>United-States</td>\n",
       "      <td>&lt;=50K</td>\n",
       "    </tr>\n",
       "    <tr>\n",
       "      <th>3</th>\n",
       "      <td>53</td>\n",
       "      <td>Private</td>\n",
       "      <td>234721</td>\n",
       "      <td>11th</td>\n",
       "      <td>7</td>\n",
       "      <td>Married-civ-spouse</td>\n",
       "      <td>Handlers-cleaners</td>\n",
       "      <td>Husband</td>\n",
       "      <td>Black</td>\n",
       "      <td>Male</td>\n",
       "      <td>0</td>\n",
       "      <td>0</td>\n",
       "      <td>40</td>\n",
       "      <td>United-States</td>\n",
       "      <td>&lt;=50K</td>\n",
       "    </tr>\n",
       "    <tr>\n",
       "      <th>4</th>\n",
       "      <td>28</td>\n",
       "      <td>Private</td>\n",
       "      <td>338409</td>\n",
       "      <td>Bachelors</td>\n",
       "      <td>13</td>\n",
       "      <td>Married-civ-spouse</td>\n",
       "      <td>Prof-specialty</td>\n",
       "      <td>Wife</td>\n",
       "      <td>Black</td>\n",
       "      <td>Female</td>\n",
       "      <td>0</td>\n",
       "      <td>0</td>\n",
       "      <td>40</td>\n",
       "      <td>Cuba</td>\n",
       "      <td>&lt;=50K</td>\n",
       "    </tr>\n",
       "  </tbody>\n",
       "</table>\n",
       "</div>"
      ],
      "text/plain": [
       "   age         workclass  fnlwgt  education  education-num  \\\n",
       "0   39         State-gov   77516  Bachelors             13   \n",
       "1   50  Self-emp-not-inc   83311  Bachelors             13   \n",
       "2   38           Private  215646    HS-grad              9   \n",
       "3   53           Private  234721       11th              7   \n",
       "4   28           Private  338409  Bachelors             13   \n",
       "\n",
       "       marital-status         occupation   relationship   race     sex  \\\n",
       "0       Never-married       Adm-clerical  Not-in-family  White    Male   \n",
       "1  Married-civ-spouse    Exec-managerial        Husband  White    Male   \n",
       "2            Divorced  Handlers-cleaners  Not-in-family  White    Male   \n",
       "3  Married-civ-spouse  Handlers-cleaners        Husband  Black    Male   \n",
       "4  Married-civ-spouse     Prof-specialty           Wife  Black  Female   \n",
       "\n",
       "   capital-gain  capital-loss  hours-per-week native-country salary  \n",
       "0          2174             0              40  United-States  <=50K  \n",
       "1             0             0              13  United-States  <=50K  \n",
       "2             0             0              40  United-States  <=50K  \n",
       "3             0             0              40  United-States  <=50K  \n",
       "4             0             0              40           Cuba  <=50K  "
      ]
     },
     "execution_count": 2,
     "metadata": {},
     "output_type": "execute_result"
    }
   ],
   "source": [
    "data = pd.read_csv('/kaggle/input/adalt-data/adult.data.csv')\n",
    "data.head()"
   ]
  },
  {
   "cell_type": "markdown",
   "id": "3feb9634",
   "metadata": {
    "papermill": {
     "duration": 0.007662,
     "end_time": "2023-08-28T20:11:15.202300",
     "exception": false,
     "start_time": "2023-08-28T20:11:15.194638",
     "status": "completed"
    },
    "tags": []
   },
   "source": [
    "**1. Сколько мужчин и женщин (признак *sex*) представлено в этом наборе данных?**"
   ]
  },
  {
   "cell_type": "code",
   "execution_count": 3,
   "id": "23988c1b",
   "metadata": {
    "execution": {
     "iopub.execute_input": "2023-08-28T20:11:15.222317Z",
     "iopub.status.busy": "2023-08-28T20:11:15.221558Z",
     "iopub.status.idle": "2023-08-28T20:11:15.254783Z",
     "shell.execute_reply": "2023-08-28T20:11:15.252728Z"
    },
    "papermill": {
     "duration": 0.047138,
     "end_time": "2023-08-28T20:11:15.257722",
     "exception": false,
     "start_time": "2023-08-28T20:11:15.210584",
     "status": "completed"
    },
    "tags": []
   },
   "outputs": [
    {
     "name": "stdout",
     "output_type": "stream",
     "text": [
      "Male:  21790\n",
      "Female:  10771\n",
      "Both:  32561\n"
     ]
    }
   ],
   "source": [
    "print('Male: ',len(data[data['sex']=='Male']))\n",
    "print('Female: ',len(data[data['sex']=='Female']))\n",
    "print('Both: ',len(data))"
   ]
  },
  {
   "cell_type": "markdown",
   "id": "97ff98df",
   "metadata": {
    "papermill": {
     "duration": 0.008677,
     "end_time": "2023-08-28T20:11:15.275714",
     "exception": false,
     "start_time": "2023-08-28T20:11:15.267037",
     "status": "completed"
    },
    "tags": []
   },
   "source": [
    "**2. Каков средний возраст (признак *age*) женщин?**"
   ]
  },
  {
   "cell_type": "code",
   "execution_count": 4,
   "id": "480f6be5",
   "metadata": {
    "execution": {
     "iopub.execute_input": "2023-08-28T20:11:15.295129Z",
     "iopub.status.busy": "2023-08-28T20:11:15.294717Z",
     "iopub.status.idle": "2023-08-28T20:11:15.312682Z",
     "shell.execute_reply": "2023-08-28T20:11:15.310369Z"
    },
    "papermill": {
     "duration": 0.031804,
     "end_time": "2023-08-28T20:11:15.316278",
     "exception": false,
     "start_time": "2023-08-28T20:11:15.284474",
     "status": "completed"
    },
    "tags": []
   },
   "outputs": [
    {
     "name": "stdout",
     "output_type": "stream",
     "text": [
      "Female average age:  37.0\n"
     ]
    }
   ],
   "source": [
    "print('Female average age: ', round(data[data['sex']=='Female']['age'].mean(),0))"
   ]
  },
  {
   "cell_type": "markdown",
   "id": "e9d8d646",
   "metadata": {
    "papermill": {
     "duration": 0.008498,
     "end_time": "2023-08-28T20:11:15.333349",
     "exception": false,
     "start_time": "2023-08-28T20:11:15.324851",
     "status": "completed"
    },
    "tags": []
   },
   "source": [
    "**3. Какова доля граждан Германии (признак *native-country*)?**"
   ]
  },
  {
   "cell_type": "code",
   "execution_count": 5,
   "id": "d71a0dfe",
   "metadata": {
    "execution": {
     "iopub.execute_input": "2023-08-28T20:11:15.352769Z",
     "iopub.status.busy": "2023-08-28T20:11:15.352140Z",
     "iopub.status.idle": "2023-08-28T20:11:15.368190Z",
     "shell.execute_reply": "2023-08-28T20:11:15.366737Z"
    },
    "papermill": {
     "duration": 0.029554,
     "end_time": "2023-08-28T20:11:15.371954",
     "exception": false,
     "start_time": "2023-08-28T20:11:15.342400",
     "status": "completed"
    },
    "tags": []
   },
   "outputs": [
    {
     "name": "stdout",
     "output_type": "stream",
     "text": [
      "Germany, percentage:  0.42 %\n"
     ]
    }
   ],
   "source": [
    "v1=len(data[data['native-country']=='Germany'])\n",
    "v2=(v1/len(data))*100\n",
    "print('Germany, percentage: ', round(v2,2) , '%')"
   ]
  },
  {
   "cell_type": "markdown",
   "id": "66a79a57",
   "metadata": {
    "papermill": {
     "duration": 0.008066,
     "end_time": "2023-08-28T20:11:15.388605",
     "exception": false,
     "start_time": "2023-08-28T20:11:15.380539",
     "status": "completed"
    },
    "tags": []
   },
   "source": [
    "**4-5. Каковы средние значения и среднеквадратичные отклонения возраста тех, кто получает более 50K в год (признак *salary*) и тех, кто получает менее 50K в год? **"
   ]
  },
  {
   "cell_type": "markdown",
   "id": "2eac179b",
   "metadata": {
    "papermill": {
     "duration": 0.008399,
     "end_time": "2023-08-28T20:11:15.406157",
     "exception": false,
     "start_time": "2023-08-28T20:11:15.397758",
     "status": "completed"
    },
    "tags": []
   },
   "source": [
    "Обычно среднеквадратичное отклонение вычисляется, как\n",
    "\n",
    "x.sum() / N, где N = len(x)\n",
    "\n",
    "сам x = abs(a - a.mean())**2.\n",
    "\n",
    "Но это верно для ddof = 0. При изменении ddof изменится и делитель, например, при ddof = 1 делитель станет равен N-1.\n",
    "\n",
    "С практической точки зрения увеличение ddof приводит к увеличению среднеквадратичного отклонения.\n",
    "\n",
    "Например, для массива из 10 чисел от 0 до 9 стандартное отклонение изменяется так:\n",
    "\n",
    "2.87->3.03->3.12 при увеличении ddof 0->1->1.5 соотвественно."
   ]
  },
  {
   "cell_type": "code",
   "execution_count": null,
   "id": "eb66effb",
   "metadata": {
    "papermill": {
     "duration": 0.008212,
     "end_time": "2023-08-28T20:11:15.422612",
     "exception": false,
     "start_time": "2023-08-28T20:11:15.414400",
     "status": "completed"
    },
    "tags": []
   },
   "outputs": [],
   "source": []
  },
  {
   "cell_type": "markdown",
   "id": "294d54fa",
   "metadata": {
    "papermill": {
     "duration": 0.009412,
     "end_time": "2023-08-28T20:11:15.440291",
     "exception": false,
     "start_time": "2023-08-28T20:11:15.430879",
     "status": "completed"
    },
    "tags": []
   },
   "source": [
    "**6. Правда ли, что люди, которые получают больше 50k, имеют как минимум высшее образование? (признак *education – Bachelors, Prof-school, Assoc-acdm, Assoc-voc, Masters* или *Doctorate*)**"
   ]
  },
  {
   "cell_type": "code",
   "execution_count": 6,
   "id": "38d8cefb",
   "metadata": {
    "execution": {
     "iopub.execute_input": "2023-08-28T20:11:15.460439Z",
     "iopub.status.busy": "2023-08-28T20:11:15.460002Z",
     "iopub.status.idle": "2023-08-28T20:11:15.478789Z",
     "shell.execute_reply": "2023-08-28T20:11:15.477646Z"
    },
    "papermill": {
     "duration": 0.03172,
     "end_time": "2023-08-28T20:11:15.481267",
     "exception": false,
     "start_time": "2023-08-28T20:11:15.449547",
     "status": "completed"
    },
    "tags": []
   },
   "outputs": [
    {
     "data": {
      "text/plain": [
       "HS-grad         10501\n",
       "Some-college     7291\n",
       "Bachelors        5355\n",
       "Masters          1723\n",
       "Assoc-voc        1382\n",
       "11th             1175\n",
       "Assoc-acdm       1067\n",
       "10th              933\n",
       "7th-8th           646\n",
       "Prof-school       576\n",
       "9th               514\n",
       "12th              433\n",
       "Doctorate         413\n",
       "5th-6th           333\n",
       "1st-4th           168\n",
       "Preschool          51\n",
       "Name: education, dtype: int64"
      ]
     },
     "execution_count": 6,
     "metadata": {},
     "output_type": "execute_result"
    }
   ],
   "source": [
    "data['education'].value_counts()"
   ]
  },
  {
   "cell_type": "markdown",
   "id": "1ed9e369",
   "metadata": {
    "papermill": {
     "duration": 0.008643,
     "end_time": "2023-08-28T20:11:15.498465",
     "exception": false,
     "start_time": "2023-08-28T20:11:15.489822",
     "status": "completed"
    },
    "tags": []
   },
   "source": [
    "subsetDataFrame = dfObj[dfObj['Product'].isin(['Mangos', 'Grapes']) ]\n",
    "\n",
    "filterinfDataframe = dfObj[(dfObj['Sale'] > 30) & (dfObj['Sale'] < 33) ]"
   ]
  },
  {
   "cell_type": "code",
   "execution_count": 7,
   "id": "93a03366",
   "metadata": {
    "execution": {
     "iopub.execute_input": "2023-08-28T20:11:15.519546Z",
     "iopub.status.busy": "2023-08-28T20:11:15.519106Z",
     "iopub.status.idle": "2023-08-28T20:11:15.537791Z",
     "shell.execute_reply": "2023-08-28T20:11:15.535559Z"
    },
    "papermill": {
     "duration": 0.032848,
     "end_time": "2023-08-28T20:11:15.540874",
     "exception": false,
     "start_time": "2023-08-28T20:11:15.508026",
     "status": "completed"
    },
    "tags": []
   },
   "outputs": [
    {
     "name": "stdout",
     "output_type": "stream",
     "text": [
      "4270\n",
      "No, this is not true\n"
     ]
    }
   ],
   "source": [
    "subsetData=data[data['education'].isin(['Masters','Bachelors','Prof-school','Assoc-voc','Doctorate'])]\n",
    "\n",
    "filteredData=subsetData[subsetData['salary']=='>50K']\n",
    "print(len(filteredData))\n",
    "print('No, this is not true')"
   ]
  },
  {
   "cell_type": "markdown",
   "id": "220231d4",
   "metadata": {
    "papermill": {
     "duration": 0.008338,
     "end_time": "2023-08-28T20:11:15.558752",
     "exception": false,
     "start_time": "2023-08-28T20:11:15.550414",
     "status": "completed"
    },
    "tags": []
   },
   "source": [
    "**7. Выведите статистику возраста для каждой расы (признак *race*) и каждого пола. Используйте *groupby* и *describe*. Найдите таким образом максимальный возраст мужчин расы *Amer-Indian-Eskimo*.**"
   ]
  },
  {
   "cell_type": "code",
   "execution_count": 8,
   "id": "cedf4a3f",
   "metadata": {
    "collapsed": true,
    "execution": {
     "iopub.execute_input": "2023-08-28T20:11:15.580002Z",
     "iopub.status.busy": "2023-08-28T20:11:15.579500Z",
     "iopub.status.idle": "2023-08-28T20:11:15.585248Z",
     "shell.execute_reply": "2023-08-28T20:11:15.583929Z"
    },
    "jupyter": {
     "outputs_hidden": true
    },
    "papermill": {
     "duration": 0.020656,
     "end_time": "2023-08-28T20:11:15.588282",
     "exception": false,
     "start_time": "2023-08-28T20:11:15.567626",
     "status": "completed"
    },
    "tags": []
   },
   "outputs": [],
   "source": [
    "# Ваш код здесь"
   ]
  },
  {
   "cell_type": "markdown",
   "id": "e9d50ec8",
   "metadata": {
    "papermill": {
     "duration": 0.008444,
     "end_time": "2023-08-28T20:11:15.605845",
     "exception": false,
     "start_time": "2023-08-28T20:11:15.597401",
     "status": "completed"
    },
    "tags": []
   },
   "source": [
    "**8. Среди кого больше доля зарабатывающих много (>50K): среди женатых или холостых мужчин (признак *marital-status*)? Женатыми считаем тех, у кого *marital-status* начинается с *Married* (Married-civ-spouse, Married-spouse-absent или Married-AF-spouse), остальных считаем холостыми.**"
   ]
  },
  {
   "cell_type": "code",
   "execution_count": 9,
   "id": "be5252cb",
   "metadata": {
    "execution": {
     "iopub.execute_input": "2023-08-28T20:11:15.625582Z",
     "iopub.status.busy": "2023-08-28T20:11:15.625019Z",
     "iopub.status.idle": "2023-08-28T20:11:15.654928Z",
     "shell.execute_reply": "2023-08-28T20:11:15.653696Z"
    },
    "papermill": {
     "duration": 0.042649,
     "end_time": "2023-08-28T20:11:15.657521",
     "exception": false,
     "start_time": "2023-08-28T20:11:15.614872",
     "status": "completed"
    },
    "tags": []
   },
   "outputs": [
    {
     "name": "stdout",
     "output_type": "stream",
     "text": [
      "Merried:  6736\n",
      "non-Merried:  1105\n"
     ]
    }
   ],
   "source": [
    "Group1=data[data['marital-status'].isin(['Married-civ-spouse','Married-spouse-absent','Married-AF-spouse'])]\n",
    "Group2=data[~data['marital-status'].isin(['Married-civ-spouse','Married-spouse-absent','Married-AF-spouse'])]\n",
    "print('Merried: ', len(Group1[Group1['salary']=='>50K']))\n",
    "print('non-Merried: ', len(Group2[Group2['salary']=='>50K']))"
   ]
  },
  {
   "cell_type": "markdown",
   "id": "88f404e6",
   "metadata": {
    "papermill": {
     "duration": 0.008563,
     "end_time": "2023-08-28T20:11:15.674769",
     "exception": false,
     "start_time": "2023-08-28T20:11:15.666206",
     "status": "completed"
    },
    "tags": []
   },
   "source": [
    "**9. Какое максимальное число часов человек работает в неделю (признак *hours-per-week*)? Сколько людей работают такое количество часов и каков среди них процент зарабатывающих много?**"
   ]
  },
  {
   "cell_type": "code",
   "execution_count": 10,
   "id": "fcc7ea5f",
   "metadata": {
    "collapsed": true,
    "execution": {
     "iopub.execute_input": "2023-08-28T20:11:15.693992Z",
     "iopub.status.busy": "2023-08-28T20:11:15.693535Z",
     "iopub.status.idle": "2023-08-28T20:11:15.699041Z",
     "shell.execute_reply": "2023-08-28T20:11:15.697623Z"
    },
    "jupyter": {
     "outputs_hidden": true
    },
    "papermill": {
     "duration": 0.018204,
     "end_time": "2023-08-28T20:11:15.701628",
     "exception": false,
     "start_time": "2023-08-28T20:11:15.683424",
     "status": "completed"
    },
    "tags": []
   },
   "outputs": [],
   "source": [
    "# Ваш код здесь"
   ]
  },
  {
   "cell_type": "markdown",
   "id": "b7e2c45a",
   "metadata": {
    "papermill": {
     "duration": 0.009553,
     "end_time": "2023-08-28T20:11:15.721989",
     "exception": false,
     "start_time": "2023-08-28T20:11:15.712436",
     "status": "completed"
    },
    "tags": []
   },
   "source": [
    "**10. Посчитайте среднее время работы (*hours-per-week*) зарабатывающих мало и много (*salary*) для каждой страны (*native-country*).**"
   ]
  },
  {
   "cell_type": "code",
   "execution_count": 11,
   "id": "53435bae",
   "metadata": {
    "execution": {
     "iopub.execute_input": "2023-08-28T20:11:15.742057Z",
     "iopub.status.busy": "2023-08-28T20:11:15.741334Z",
     "iopub.status.idle": "2023-08-28T20:11:15.746167Z",
     "shell.execute_reply": "2023-08-28T20:11:15.745175Z"
    },
    "papermill": {
     "duration": 0.017256,
     "end_time": "2023-08-28T20:11:15.748465",
     "exception": false,
     "start_time": "2023-08-28T20:11:15.731209",
     "status": "completed"
    },
    "tags": []
   },
   "outputs": [],
   "source": [
    "# Ваш код здесь"
   ]
  }
 ],
 "metadata": {
  "kernelspec": {
   "display_name": "Python 3",
   "language": "python",
   "name": "python3"
  },
  "language_info": {
   "codemirror_mode": {
    "name": "ipython",
    "version": 3
   },
   "file_extension": ".py",
   "mimetype": "text/x-python",
   "name": "python",
   "nbconvert_exporter": "python",
   "pygments_lexer": "ipython3",
   "version": "3.10.12"
  },
  "papermill": {
   "default_parameters": {},
   "duration": 14.994447,
   "end_time": "2023-08-28T20:11:16.681734",
   "environment_variables": {},
   "exception": null,
   "input_path": "__notebook__.ipynb",
   "output_path": "__notebook__.ipynb",
   "parameters": {},
   "start_time": "2023-08-28T20:11:01.687287",
   "version": "2.4.0"
  }
 },
 "nbformat": 4,
 "nbformat_minor": 5
}
